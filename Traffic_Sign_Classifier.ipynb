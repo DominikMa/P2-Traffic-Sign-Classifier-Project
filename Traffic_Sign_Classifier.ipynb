{
 "cells": [
  {
   "cell_type": "markdown",
   "metadata": {},
   "source": [
    "# Self-Driving Car Engineer Nanodegree\n",
    "\n",
    "## Deep Learning\n",
    "\n",
    "## Project: Build a Traffic Sign Recognition Classifier\n",
    "\n",
    "In this notebook, a template is provided for you to implement your functionality in stages, which is required to successfully complete this project. If additional code is required that cannot be included in the notebook, be sure that the Python code is successfully imported and included in your submission if necessary. \n",
    "\n",
    "> **Note**: Once you have completed all of the code implementations, you need to finalize your work by exporting the iPython Notebook as an HTML document. Before exporting the notebook to html, all of the code cells need to have been run so that reviewers can see the final implementation and output. You can then export the notebook by using the menu above and navigating to  \\n\",\n",
    "    \"**File -> Download as -> HTML (.html)**. Include the finished document along with this notebook as your submission. \n",
    "\n",
    "In addition to implementing code, there is a writeup to complete. The writeup should be completed in a separate file, which can be either a markdown file or a pdf document. There is a [write up template](https://github.com/udacity/CarND-Traffic-Sign-Classifier-Project/blob/master/writeup_template.md) that can be used to guide the writing process. Completing the code template and writeup template will cover all of the [rubric points](https://review.udacity.com/#!/rubrics/481/view) for this project.\n",
    "\n",
    "The [rubric](https://review.udacity.com/#!/rubrics/481/view) contains \"Stand Out Suggestions\" for enhancing the project beyond the minimum requirements. The stand out suggestions are optional. If you decide to pursue the \"stand out suggestions\", you can include the code in this Ipython notebook and also discuss the results in the writeup file.\n",
    "\n",
    "\n",
    ">**Note:** Code and Markdown cells can be executed using the **Shift + Enter** keyboard shortcut. In addition, Markdown cells can be edited by typically double-clicking the cell to enter edit mode."
   ]
  },
  {
   "cell_type": "markdown",
   "metadata": {},
   "source": [
    "---\n",
    "## Step 0: Load The Data"
   ]
  },
  {
   "cell_type": "code",
   "execution_count": 1,
   "metadata": {},
   "outputs": [],
   "source": [
    "### Additional imports\n",
    "import numpy as np\n",
    "import cv2\n",
    "import matplotlib.image as mpimg\n",
    "from random import randint\n",
    "import csv"
   ]
  },
  {
   "cell_type": "code",
   "execution_count": 2,
   "metadata": {},
   "outputs": [],
   "source": [
    "### Constants\n",
    "\n",
    "### Preprocessing the images\n",
    "DO_GRAYSCALE=False\n",
    "DO_NORMALIZE=False\n",
    "DO_STANDARDIZATION=True\n",
    "DO_BGR2YUV=True\n",
    "DO_YUV2GRAYSCALE=True\n",
    "\n",
    "### Image augmentation\n",
    "DO_CHANGE_BRIGHTNESS=True\n",
    "DO_CROP=True\n",
    "DO_ROTATE=True\n",
    "DO_PAD=True\n",
    "\n",
    "### TensorFlow training\n",
    "EPOCHS = 30\n",
    "BATCH_SIZE = 256"
   ]
  },
  {
   "cell_type": "code",
   "execution_count": 3,
   "metadata": {},
   "outputs": [],
   "source": [
    "# Load pickled data\n",
    "import pickle\n",
    "\n",
    "# Load training, valid and testing data\n",
    "\n",
    "training_file = \"data/train.p\"\n",
    "validation_file= \"data/valid.p\"\n",
    "testing_file = \"data/test.p\"\n",
    "\n",
    "with open(training_file, mode='rb') as f:\n",
    "    train = pickle.load(f)\n",
    "with open(validation_file, mode='rb') as f:\n",
    "    valid = pickle.load(f)\n",
    "with open(testing_file, mode='rb') as f:\n",
    "    test = pickle.load(f)\n",
    "    \n",
    "X_train_org, y_train_org = train['features'], train['labels']\n",
    "X_valid_org, y_valid_org = valid['features'], valid['labels']\n",
    "X_test_org, y_test_org = test['features'], test['labels']"
   ]
  },
  {
   "cell_type": "markdown",
   "metadata": {},
   "source": [
    "---\n",
    "\n",
    "## Step 1: Dataset Summary & Exploration\n",
    "\n",
    "The pickled data is a dictionary with 4 key/value pairs:\n",
    "\n",
    "- `'features'` is a 4D array containing raw pixel data of the traffic sign images, (num examples, width, height, channels).\n",
    "- `'labels'` is a 1D array containing the label/class id of the traffic sign. The file `signnames.csv` contains id -> name mappings for each id.\n",
    "- `'sizes'` is a list containing tuples, (width, height) representing the original width and height the image.\n",
    "- `'coords'` is a list containing tuples, (x1, y1, x2, y2) representing coordinates of a bounding box around the sign in the image. **THESE COORDINATES ASSUME THE ORIGINAL IMAGE. THE PICKLED DATA CONTAINS RESIZED VERSIONS (32 by 32) OF THESE IMAGES**\n",
    "\n",
    "Complete the basic data summary below. Use python, numpy and/or pandas methods to calculate the data summary rather than hard coding the results. For example, the [pandas shape method](http://pandas.pydata.org/pandas-docs/stable/generated/pandas.DataFrame.shape.html) might be useful for calculating some of the summary results. "
   ]
  },
  {
   "cell_type": "markdown",
   "metadata": {},
   "source": [
    "### Provide a Basic Summary of the Data Set Using Python, Numpy and/or Pandas"
   ]
  },
  {
   "cell_type": "code",
   "execution_count": 4,
   "metadata": {},
   "outputs": [
    {
     "name": "stdout",
     "output_type": "stream",
     "text": [
      "Number of training examples = 34799\n",
      "Number of testing examples = 12630\n",
      "Image data shape = (32, 32)\n",
      "Number of classes = 43\n"
     ]
    }
   ],
   "source": [
    "### Replace each question mark with the appropriate value. \n",
    "### Use python, pandas or numpy methods rather than hard coding the results\n",
    "\n",
    "# Number of training examples\n",
    "n_train = X_train_org.shape[0]\n",
    "\n",
    "# Number of validation examples\n",
    "n_validation = X_valid_org.shape[0]\n",
    "\n",
    "# Number of testing examples.\n",
    "n_test = X_test_org.shape[0]\n",
    "\n",
    "# What's the shape of an traffic sign image?\n",
    "image_shape = X_train_org.shape[1:3]\n",
    "\n",
    "# How many unique classes/labels there are in the dataset.\n",
    "n_classes = len(set(y_train_org))\n",
    "\n",
    "print(\"Number of training examples =\", n_train)\n",
    "print(\"Number of testing examples =\", n_test)\n",
    "print(\"Image data shape =\", image_shape)\n",
    "print(\"Number of classes =\", n_classes)"
   ]
  },
  {
   "cell_type": "markdown",
   "metadata": {},
   "source": [
    "### Include an exploratory visualization of the dataset"
   ]
  },
  {
   "cell_type": "markdown",
   "metadata": {},
   "source": [
    "Visualize the German Traffic Signs Dataset using the pickled file(s). This is open ended, suggestions include: plotting traffic sign images, plotting the count of each sign, etc. \n",
    "\n",
    "The [Matplotlib](http://matplotlib.org/) [examples](http://matplotlib.org/examples/index.html) and [gallery](http://matplotlib.org/gallery.html) pages are a great resource for doing visualizations in Python.\n",
    "\n",
    "**NOTE:** It's recommended you start with something simple first. If you wish to do more, come back to it after you've completed the rest of the sections. It can be interesting to look at the distribution of classes in the training, validation and test set. Is the distribution the same? Are there more examples of some classes than others?"
   ]
  },
  {
   "cell_type": "code",
   "execution_count": 5,
   "metadata": {},
   "outputs": [],
   "source": [
    "### Data exploration visualization code goes here.\n",
    "### Feel free to use as many code cells as needed.\n",
    "import matplotlib.pyplot as plt\n",
    "# Visualizations will be shown in the notebook.\n",
    "%matplotlib inline"
   ]
  },
  {
   "cell_type": "code",
   "execution_count": 6,
   "metadata": {},
   "outputs": [
    {
     "name": "stdout",
     "output_type": "stream",
     "text": [
      "Keep right\n"
     ]
    },
    {
     "data": {
      "text/plain": [
       "<matplotlib.image.AxesImage at 0x7f81dd0a7e10>"
      ]
     },
     "execution_count": 6,
     "metadata": {},
     "output_type": "execute_result"
    },
    {
     "data": {
      "image/png": "[encoded data removed]",
      "text/plain": [
       "<matplotlib.figure.Figure at 0x7f81dd398cf8>"
      ]
     },
     "metadata": {},
     "output_type": "display_data"
    }
   ],
   "source": [
    "### Plot random train image and its label\n",
    "image_nr = randint(0,n_train-1)\n",
    "signnames = {}\n",
    "with open('signnames.csv', newline='') as csvfile:\n",
    "    reader = csv.DictReader(csvfile)\n",
    "    for row in reader:\n",
    "        signnames[row['ClassId']] = row['SignName']\n",
    "\n",
    "print(signnames[str(y_train_org[image_nr])])\n",
    "plt.imshow(X_train_org[image_nr,:,:,:])"
   ]
  },
  {
   "cell_type": "code",
   "execution_count": 7,
   "metadata": {},
   "outputs": [
    {
     "data": {
      "image/png": "[encoded data removed]",
      "text/plain": [
       "<matplotlib.figure.Figure at 0x7f81dd3983c8>"
      ]
     },
     "metadata": {},
     "output_type": "display_data"
    }
   ],
   "source": [
    "### Plot count per label\n",
    "plt.rcdefaults()\n",
    "fig, ax = plt.subplots()\n",
    "\n",
    "ax.hist(y_train_org, bins=n_classes)\n",
    "\n",
    "ax.set_title('Number of pictures per label')\n",
    "ax.set_ylabel(\"Amount\")\n",
    "ax.set_xlabel(\"Label as Number\")\n",
    "\n",
    "plt.show()"
   ]
  },
  {
   "cell_type": "markdown",
   "metadata": {},
   "source": [
    "----\n",
    "\n",
    "## Step 2: Design and Test a Model Architecture\n",
    "\n",
    "Design and implement a deep learning model that learns to recognize traffic signs. Train and test your model on the [German Traffic Sign Dataset](http://benchmark.ini.rub.de/?section=gtsrb&subsection=dataset).\n",
    "\n",
    "The LeNet-5 implementation shown in the [classroom](https://classroom.udacity.com/nanodegrees/nd013/parts/fbf77062-5703-404e-b60c-95b78b2f3f9e/modules/6df7ae49-c61c-4bb2-a23e-6527e69209ec/lessons/601ae704-1035-4287-8b11-e2c2716217ad/concepts/d4aca031-508f-4e0b-b493-e7b706120f81) at the end of the CNN lesson is a solid starting point. You'll have to change the number of classes and possibly the preprocessing, but aside from that it's plug and play! \n",
    "\n",
    "With the LeNet-5 solution from the lecture, you should expect a validation set accuracy of about 0.89. To meet specifications, the validation set accuracy will need to be at least 0.93. It is possible to get an even higher accuracy, but 0.93 is the minimum for a successful project submission. \n",
    "\n",
    "There are various aspects to consider when thinking about this problem:\n",
    "\n",
    "- Neural network architecture (is the network over or underfitting?)\n",
    "- Play around preprocessing techniques (normalization, rgb to grayscale, etc)\n",
    "- Number of examples per label (some have more than others).\n",
    "- Generate fake data.\n",
    "\n",
    "Here is an example of a [published baseline model on this problem](http://yann.lecun.com/exdb/publis/pdf/sermanet-ijcnn-11.pdf). It's not required to be familiar with the approach used in the paper but, it's good practice to try to read papers like these."
   ]
  },
  {
   "cell_type": "markdown",
   "metadata": {},
   "source": [
    "### Pre-process the Data Set (normalization, grayscale, etc.)"
   ]
  },
  {
   "cell_type": "markdown",
   "metadata": {},
   "source": [
    "Minimally, the image data should be normalized so that the data has mean zero and equal variance. For image data, `(pixel - 128)/ 128` is a quick way to approximately normalize the data and can be used in this project. \n",
    "\n",
    "Other pre-processing steps are optional. You can try different techniques to see if it improves performance. \n",
    "\n",
    "Use the code cell (or multiple code cells, if necessary) to implement the first step of your project."
   ]
  },
  {
   "cell_type": "code",
   "execution_count": 8,
   "metadata": {},
   "outputs": [],
   "source": [
    "### Preprocess the data here.\n",
    "\n",
    "### Grayscale\n",
    "def bgr2grayscale(image_data):\n",
    "    image_data_new = image_data[:,:,:,0].copy()\n",
    "    for i in range(0,image_data.shape[0]):\n",
    "        image_data_new[i] = (cv2.cvtColor(image_data[i], cv2.COLOR_BGR2GRAY))\n",
    "    image_data_new = image_data_new[:,:,:,np.newaxis]\n",
    "    return image_data_new\n",
    "\n",
    "### YUV colorspace\n",
    "def bgr2yuv(image_data):\n",
    "    image_data_new = image_data.copy()\n",
    "    for i in range(0,image_data.shape[0]):\n",
    "        image_data_new[i] = (cv2.cvtColor(image_data[i], cv2.COLOR_BGR2YUV))\n",
    "    return image_data_new\n",
    "\n",
    "def yuv2grayscale(image_data):\n",
    "    image_data_new = image_data[:,:,:,0].copy()\n",
    "    image_data_new = image_data_new[:,:,:,np.newaxis]\n",
    "    return image_data_new\n",
    "\n",
    "### Normalize data\n",
    "def normalize(image_data, image_min_new=-1, image_max_new=1):\n",
    "    image_min = np.min(image_data)\n",
    "    image_max = np.max(image_data)\n",
    "    image_data_new = (image_data - image_min) * (image_max_new - image_min_new)/(image_max - image_min)  + image_min_new\n",
    "    return image_data_new\n",
    "\n",
    "### Standardization\n",
    "def standardization(image_data, image_mean_arg=None, image_std_arg=None):\n",
    "    if image_mean_arg is None or image_std_arg is None:\n",
    "        global image_mean \n",
    "        image_mean = np.mean(image_data, 0)\n",
    "        global image_std\n",
    "        image_std = np.std(image_data, 0)\n",
    "    \n",
    "        # Save image mean and std\n",
    "        image_mean_file = \"data/image_mean.p\"\n",
    "        image_std_file = \"data/image_std.p\"\n",
    "        with open(image_mean_file, mode='wb') as f:\n",
    "            pickle.dump(image_mean, f)\n",
    "        with open(image_std_file, mode='wb') as f:\n",
    "            pickle.dump(image_std, f)\n",
    "    else:\n",
    "        image_mean = image_mean_arg\n",
    "        image_std = image_std_arg\n",
    "    image_data_new = (image_data-image_mean)/image_std\n",
    "    return image_data_new\n",
    "\n",
    "def preprocess(image_data_train, image_data_valid, image_data_test, do_grayscale=DO_GRAYSCALE,\n",
    "               do_normalize=DO_NORMALIZE, do_standardization=DO_STANDARDIZATION, do_bgr2yuv=DO_BGR2YUV,\n",
    "              do_yuv2grayscale=DO_YUV2GRAYSCALE):\n",
    "    image_data_preprocess_train = image_data_train\n",
    "    image_data_preprocess_valid = image_data_valid\n",
    "    image_data_preprocess_test = image_data_test\n",
    "    if do_grayscale:\n",
    "        image_data_preprocess_train = grayscale(image_data_preprocess_train)\n",
    "        image_data_preprocess_valid = grayscale(image_data_preprocess_valid)\n",
    "        image_data_preprocess_test = grayscale(image_data_preprocess_test)\n",
    "    if do_bgr2yuv:\n",
    "        image_data_preprocess_train = bgr2yuv(image_data_preprocess_train)\n",
    "        image_data_preprocess_valid = bgr2yuv(image_data_preprocess_valid)\n",
    "        image_data_preprocess_test = bgr2yuv(image_data_preprocess_test)\n",
    "    if do_yuv2grayscale:\n",
    "        image_data_preprocess_train = yuv2grayscale(image_data_preprocess_train)\n",
    "        image_data_preprocess_valid = yuv2grayscale(image_data_preprocess_valid)\n",
    "        image_data_preprocess_test = yuv2grayscale(image_data_preprocess_test)\n",
    "    if do_normalize:\n",
    "        image_data_preprocess_train = normalize(image_data_preprocess_train)\n",
    "        image_data_preprocess_valid = normalize(image_data_preprocess_valid)\n",
    "        image_data_preprocess_test = normalize(image_data_preprocess_test)\n",
    "    if do_standardization:\n",
    "        image_data_preprocess_train = standardization(image_data_preprocess_train)\n",
    "        image_data_preprocess_valid = standardization(image_data_preprocess_valid, image_mean_arg=image_mean, image_std_arg=image_std)\n",
    "        image_data_preprocess_test = standardization(image_data_preprocess_test, image_mean_arg=image_mean, image_std_arg=image_std)\n",
    "        \n",
    "    return image_data_preprocess_train, image_data_preprocess_valid, image_data_preprocess_test"
   ]
  },
  {
   "cell_type": "code",
   "execution_count": 9,
   "metadata": {},
   "outputs": [],
   "source": [
    "### Image augmentation\n",
    "def crop(image_data, image_label, crop_size=26):\n",
    "    image_data_new = image_data[:,:,:].copy()\n",
    "    count, h, w = image_data.shape[0], image_data.shape[1], image_data.shape[2]\n",
    "    \n",
    "    for i in range(0,count):\n",
    "        crop_up = randint(0,w-crop_size-1)\n",
    "        crop_left = randint(0,w-crop_size-1)\n",
    "        image_data_new[i] = cv2.resize(image_data[i,crop_up:crop_up+crop_size,crop_left:crop_left+crop_size],(w,h))\n",
    "    return image_data_new, image_label\n",
    "\n",
    "def rotate(image_data, image_label, min_deg=-15, max_deg=15):\n",
    "    image_data_new = image_data[:,:,:].copy()\n",
    "    count, h, w = image_data.shape[0], image_data.shape[1], image_data.shape[2]\n",
    "    \n",
    "    for i in range(0,count):\n",
    "        deg = randint(min_deg,max_deg)\n",
    "        M = cv2.getRotationMatrix2D((h/2,w/2),deg,1)\n",
    "        image_data_new[i] = cv2.warpAffine(image_data_new[i],M,(h,w))\n",
    "    return image_data_new, image_label\n",
    "\n",
    "def pad(image_data, image_label, min_pad=-8, max_pad=8):\n",
    "    image_data_new = image_data[:,:,:].copy()\n",
    "    count, h, w = image_data.shape[0], image_data.shape[1], image_data.shape[2]\n",
    "    \n",
    "    for i in range(0,count):\n",
    "        pad_h = randint(min_pad,max_pad)\n",
    "        pad_w = randint(min_pad,max_pad)\n",
    "        M = np.float32([[1,0,pad_h],[0,1,pad_w]])\n",
    "        image_data_new[i] = cv2.warpAffine(image_data_new[i],M,(h,w))\n",
    "    return image_data_new, image_label\n",
    "\n",
    "def change_brightness(image_data, image_label):\n",
    "    image_data_new = image_data[:,:,:].copy()\n",
    "    count, h, w = image_data.shape[0], image_data.shape[1], image_data.shape[2]\n",
    "    \n",
    "    for i in range(0,count):        \n",
    "        i_hsv = cv2.cvtColor(image_data_new[i], cv2.COLOR_BGR2HSV)\n",
    "        i_hsv_max = np.max(i_hsv[:,:,2])\n",
    "        i_hsv_min = np.min(i_hsv[:,:,2])\n",
    "        \n",
    "        i_hsv[:,:,2] += np.uint8(randint(0,(255-i_hsv_max)//2+(i_hsv_min//2))-(i_hsv_min//2))\n",
    "        image_data_new[i] = cv2.cvtColor(i_hsv, cv2.COLOR_HSV2BGR)\n",
    "    return image_data_new, image_label\n",
    "\n",
    "def image_augmentation(image_data, image_label, do_change_brightness=DO_CHANGE_BRIGHTNESS, do_crop=DO_CROP,\n",
    "                       do_rotate=DO_ROTATE, do_pad=DO_PAD):\n",
    "    \n",
    "    image_data_new = image_data.copy()\n",
    "    image_label_new = image_label.copy()\n",
    "    if do_change_brightness:\n",
    "        cb = change_brightness(image_data,image_label)\n",
    "        image_data_new = np.concatenate((image_data_new,cb[0]), axis=0)\n",
    "        image_label_new = np.concatenate((image_label_new,cb[1]), axis=0)\n",
    "        \n",
    "    if do_crop:\n",
    "        croped = crop(image_data,image_label)\n",
    "        image_data = np.concatenate((image_data_new,croped[0]), axis=0)\n",
    "        image_label = np.concatenate((image_label_new,croped[1]), axis=0)\n",
    "        \n",
    "    if do_rotate:\n",
    "        rotated = rotate(image_data,image_label)\n",
    "        image_data = np.concatenate((image_data_new,rotated[0]), axis=0)\n",
    "        image_label = np.concatenate((image_label_new,rotated[1]), axis=0)\n",
    "        \n",
    "    if do_pad:\n",
    "        paded = pad(image_data,image_label)\n",
    "        image_data = np.concatenate((image_data_new,paded[0]), axis=0)\n",
    "        image_label = np.concatenate((image_label_new,paded[1]), axis=0)\n",
    "        \n",
    "    return image_data,image_label"
   ]
  },
  {
   "cell_type": "code",
   "execution_count": 10,
   "metadata": {},
   "outputs": [
    {
     "name": "stdout",
     "output_type": "stream",
     "text": [
      "Number of training examples after image augmentation= 243593\n"
     ]
    }
   ],
   "source": [
    "X_train, y_train = image_augmentation(X_train_org, y_train_org)\n",
    "X_train, X_valid, X_test = preprocess(X_train, X_valid_org, X_test_org)\n",
    "\n",
    "y_test = y_test_org\n",
    "y_valid = y_valid_org\n",
    "\n",
    "validation_file_prep = \"data/valid_prep.p\"\n",
    "testing_file_prep = \"data/test_prep.p\"\n",
    "image_mean_file = \"data/image_mean.p\"\n",
    "image_std_file = \"data/image_std.p\"\n",
    "\n",
    "with open(validation_file_prep, mode='wb') as f:\n",
    "    pickle.dump(X_valid, f)\n",
    "with open(testing_file_prep, mode='wb') as f:\n",
    "    pickle.dump(X_test, f)\n",
    "    \n",
    "\n",
    "with open(image_mean_file, mode='rb') as f:\n",
    "    image_mean = pickle.load(f)\n",
    "with open(image_std_file, mode='rb') as f:\n",
    "    image_std = pickle.load(f)\n",
    "    \n",
    "print(\"Number of training examples after image augmentation=\", X_train.shape[0])"
   ]
  },
  {
   "cell_type": "markdown",
   "metadata": {},
   "source": [
    "### Model Architecture"
   ]
  },
  {
   "cell_type": "code",
   "execution_count": 10,
   "metadata": {},
   "outputs": [],
   "source": [
    "### Define the architecture here.\n",
    "\n",
    "from tensorflow.contrib.layers import flatten\n",
    "import tensorflow as tf\n",
    "\n",
    "def TrafficSignNet(x):\n",
    "    # Arguments used for tf.truncated_normal, randomly defines variables for the weights and biases for each layer\n",
    "    mu = 0\n",
    "    sigma = 0.1\n",
    "    \n",
    "    # Def Input dim for color or grayscale\n",
    "    if DO_GRAYSCALE or DO_YUV2GRAYSCALE:\n",
    "        input_dim =  1\n",
    "    else:\n",
    "        input_dim =  3\n",
    "    \n",
    "    # Layer 1: Convolutional. Output = 32x32x8.\n",
    "    conv1_W = tf.Variable(tf.truncated_normal(shape=(5, 5, input_dim, 8), mean = mu, stddev = sigma))\n",
    "    conv1_b = tf.Variable(tf.zeros(8))\n",
    "    conv1   = tf.nn.conv2d(x, conv1_W, strides=[1, 1, 1, 1], padding='SAME') + conv1_b\n",
    "    conv1 = tf.nn.relu(conv1)\n",
    "\n",
    "    # Layer 2: Convolutional. Output = 32x32x8.\n",
    "    conv2_W = tf.Variable(tf.truncated_normal(shape=(3, 3, 8, 8), mean = mu, stddev = sigma))\n",
    "    conv2_b = tf.Variable(tf.zeros(8))\n",
    "    conv2   = tf.nn.conv2d(conv1, conv2_W, strides=[1, 1, 1, 1], padding='SAME') + conv2_b\n",
    "    conv2 = tf.nn.relu(conv2)\n",
    "    conv2 = tf.nn.dropout(conv2, keep_prob)\n",
    "\n",
    "    # Layer 3: Convolutional. Output = 16x16x16.\n",
    "    conv3_W = tf.Variable(tf.truncated_normal(shape=(3, 3, 8, 16), mean = mu, stddev = sigma))\n",
    "    conv3_b = tf.Variable(tf.zeros(16))\n",
    "    conv3   = tf.nn.conv2d(conv2, conv3_W, strides=[1, 2, 2, 1], padding='SAME') + conv3_b\n",
    "    conv3 = tf.nn.relu(conv3)\n",
    "    \n",
    "    # Layer 4: Convolutional. Output = 16x16x16.\n",
    "    conv4_W = tf.Variable(tf.truncated_normal(shape=(3, 3, 16, 16), mean = mu, stddev = sigma))\n",
    "    conv4_b = tf.Variable(tf.zeros(16))\n",
    "    conv4   = tf.nn.conv2d(conv3, conv4_W, strides=[1, 1, 1, 1], padding='SAME') + conv4_b\n",
    "    conv4 = tf.nn.relu(conv4)\n",
    "    conv4 = tf.nn.dropout(conv4, keep_prob)\n",
    "    \n",
    "    # Layer 5: Convolutional. Output = 8x8x32.\n",
    "    conv5_W = tf.Variable(tf.truncated_normal(shape=(3, 3, 16, 32), mean = mu, stddev = sigma))\n",
    "    conv5_b = tf.Variable(tf.zeros(32))\n",
    "    conv5   = tf.nn.conv2d(conv4, conv5_W, strides=[1, 2, 2, 1], padding='SAME') + conv5_b\n",
    "    conv5 = tf.nn.relu(conv5)\n",
    "    \n",
    "    # Layer 6: Convolutional. Output = 8x8x32.\n",
    "    conv6_W = tf.Variable(tf.truncated_normal(shape=(3, 3, 32, 32), mean = mu, stddev = sigma))\n",
    "    conv6_b = tf.Variable(tf.zeros(32))\n",
    "    conv6   = tf.nn.conv2d(conv5, conv6_W, strides=[1, 1, 1, 1], padding='SAME') + conv6_b\n",
    "    conv6 = tf.nn.relu(conv6)\n",
    "    \n",
    "    # Layer 7: Convolutional. Output = 8x8x32.\n",
    "    conv7_W = tf.Variable(tf.truncated_normal(shape=(3, 3, 32, 32), mean = mu, stddev = sigma))\n",
    "    conv7_b = tf.Variable(tf.zeros(32))\n",
    "    conv7   = tf.nn.conv2d(conv6, conv7_W, strides=[1, 1, 1, 1], padding='SAME') + conv7_b\n",
    "    conv7 = tf.nn.relu(conv7)\n",
    "    \n",
    "    # Layer 8: Convolutional. Output = 8x8x32.\n",
    "    conv8_W = tf.Variable(tf.truncated_normal(shape=(3, 3, 32, 32), mean = mu, stddev = sigma))\n",
    "    conv8_b = tf.Variable(tf.zeros(32))\n",
    "    conv8   = tf.nn.conv2d(conv7, conv8_W, strides=[1, 1, 1, 1], padding='SAME') + conv8_b\n",
    "    conv8 = tf.nn.relu(conv8)\n",
    "    conv8 = tf.nn.dropout(conv8, keep_prob)\n",
    "    \n",
    "    # Flatten Input = 8x8x64. Output = 2048.\n",
    "    fc0   = flatten(conv8)\n",
    "    \n",
    "    # Layer 9: Fully Connected. Input = 2048. Output = 43.\n",
    "    fc1_W = tf.Variable(tf.truncated_normal(shape=(2048, 43), mean = mu, stddev = sigma))\n",
    "    fc1_b = tf.Variable(tf.zeros(43))\n",
    "    logits   = tf.matmul(fc0, fc1_W) + fc1_b\n",
    "    \n",
    "    return logits"
   ]
  },
  {
   "cell_type": "markdown",
   "metadata": {},
   "source": [
    "### Train, Validate and Test the Model"
   ]
  },
  {
   "cell_type": "markdown",
   "metadata": {},
   "source": [
    "A validation set can be used to assess how well the model is performing. A low accuracy on the training and validation\n",
    "sets imply underfitting. A high accuracy on the training set but low accuracy on the validation set implies overfitting."
   ]
  },
  {
   "cell_type": "code",
   "execution_count": 11,
   "metadata": {
    "scrolled": false
   },
   "outputs": [
    {
     "ename": "NameError",
     "evalue": "name 'X_train' is not defined",
     "output_type": "error",
     "traceback": [
      "\u001b[0;31m---------------------------------------------------------------------------\u001b[0m",
      "\u001b[0;31mNameError\u001b[0m                                 Traceback (most recent call last)",
      "\u001b[0;32m<ipython-input-11-c3e48dd1cee8>\u001b[0m in \u001b[0;36m<module>\u001b[0;34m()\u001b[0m\n\u001b[1;32m     38\u001b[0m \u001b[0;32mwith\u001b[0m \u001b[0mtf\u001b[0m\u001b[0;34m.\u001b[0m\u001b[0mSession\u001b[0m\u001b[0;34m(\u001b[0m\u001b[0;34m)\u001b[0m \u001b[0;32mas\u001b[0m \u001b[0msess\u001b[0m\u001b[0;34m:\u001b[0m\u001b[0;34m\u001b[0m\u001b[0m\n\u001b[1;32m     39\u001b[0m     \u001b[0msess\u001b[0m\u001b[0;34m.\u001b[0m\u001b[0mrun\u001b[0m\u001b[0;34m(\u001b[0m\u001b[0mtf\u001b[0m\u001b[0;34m.\u001b[0m\u001b[0mglobal_variables_initializer\u001b[0m\u001b[0;34m(\u001b[0m\u001b[0;34m)\u001b[0m\u001b[0;34m)\u001b[0m\u001b[0;34m\u001b[0m\u001b[0m\n\u001b[0;32m---> 40\u001b[0;31m     \u001b[0mnum_examples\u001b[0m \u001b[0;34m=\u001b[0m \u001b[0mlen\u001b[0m\u001b[0;34m(\u001b[0m\u001b[0mX_train\u001b[0m\u001b[0;34m)\u001b[0m\u001b[0;34m\u001b[0m\u001b[0m\n\u001b[0m\u001b[1;32m     41\u001b[0m \u001b[0;34m\u001b[0m\u001b[0m\n\u001b[1;32m     42\u001b[0m     \u001b[0mprint\u001b[0m\u001b[0;34m(\u001b[0m\u001b[0;34m\"Training...\"\u001b[0m\u001b[0;34m)\u001b[0m\u001b[0;34m\u001b[0m\u001b[0m\n",
      "\u001b[0;31mNameError\u001b[0m: name 'X_train' is not defined"
     ]
    }
   ],
   "source": [
    "### Train the model here.\n",
    "from sklearn.utils import shuffle\n",
    "\n",
    "tf.reset_default_graph()\n",
    "\n",
    "if DO_GRAYSCALE or DO_YUV2GRAYSCALE:\n",
    "    x = tf.placeholder(tf.float32, (None, 32, 32, 1))\n",
    "else:\n",
    "    x = tf.placeholder(tf.float32, (None, 32, 32, 3))\n",
    "    \n",
    "y = tf.placeholder(tf.int32, (None))\n",
    "one_hot_y = tf.one_hot(y, 43)\n",
    "\n",
    "keep_prob = tf.placeholder(tf.float32)\n",
    "rate = 0.001\n",
    "\n",
    "logits = TrafficSignNet(x)\n",
    "\n",
    "cross_entropy = tf.nn.softmax_cross_entropy_with_logits(labels=one_hot_y, logits=logits)\n",
    "loss_operation = tf.reduce_mean(cross_entropy)\n",
    "optimizer = tf.train.AdamOptimizer(learning_rate = rate)\n",
    "training_operation = optimizer.minimize(loss_operation)\n",
    "\n",
    "correct_prediction = tf.equal(tf.argmax(logits, 1), tf.argmax(one_hot_y, 1))\n",
    "accuracy_operation = tf.reduce_mean(tf.cast(correct_prediction, tf.float32))\n",
    "saver = tf.train.Saver()\n",
    "\n",
    "def evaluate(X_data, y_data):\n",
    "    num_examples = len(X_data)\n",
    "    total_accuracy = 0\n",
    "    sess = tf.get_default_session()\n",
    "    for offset in range(0, num_examples, BATCH_SIZE):\n",
    "        batch_x, batch_y = X_data[offset:offset+BATCH_SIZE], y_data[offset:offset+BATCH_SIZE]\n",
    "        accuracy = sess.run(accuracy_operation, feed_dict={x: batch_x, y: batch_y, keep_prob: 1})\n",
    "        total_accuracy += (accuracy * len(batch_x))\n",
    "    return total_accuracy / num_examples\n",
    "\n",
    "with tf.Session() as sess:\n",
    "    sess.run(tf.global_variables_initializer())       \n",
    "    num_examples = len(X_train)\n",
    "    \n",
    "    print(\"Training...\")\n",
    "    print()\n",
    "    for i in range(EPOCHS):\n",
    "        X_train, y_train = shuffle(X_train, y_train)\n",
    "        for offset in range(0, num_examples, BATCH_SIZE):\n",
    "            end = offset + BATCH_SIZE\n",
    "            batch_x, batch_y = X_train[offset:end], y_train[offset:end]\n",
    "            sess.run(training_operation, feed_dict={x: batch_x, y: batch_y, keep_prob: 0.5})\n",
    "            \n",
    "        validation_accuracy = evaluate(X_valid, y_valid)\n",
    "        print(\"EPOCH {} ...\".format(i+1))\n",
    "        print(\"Validation Accuracy = {:.3f}\".format(validation_accuracy))\n",
    "        print()\n",
    "        \n",
    "    saver.save(sess, './trafficSignNet')\n",
    "    print(\"Model saved\")"
   ]
  },
  {
   "cell_type": "code",
   "execution_count": 13,
   "metadata": {
    "scrolled": false
   },
   "outputs": [
    {
     "name": "stdout",
     "output_type": "stream",
     "text": [
      "Test Accuracy = 0.964\n",
      "\n"
     ]
    }
   ],
   "source": [
    "### Test Accuracy\n",
    "with tf.Session() as sess:\n",
    "    # Load the weights and bias\n",
    "    saver.restore(sess, './trafficSignNet')\n",
    "\n",
    "    test_accuracy = evaluate(X_test, y_test)\n",
    "    print(\"Test Accuracy = {:.3f}\".format(test_accuracy))\n",
    "    print()"
   ]
  },
  {
   "cell_type": "markdown",
   "metadata": {},
   "source": [
    "---\n",
    "\n",
    "## Step 3: Test a Model on New Images\n",
    "\n",
    "To give yourself more insight into how your model is working, download at least five pictures of German traffic signs from the web and use your model to predict the traffic sign type.\n",
    "\n",
    "You may find `signnames.csv` useful as it contains mappings from the class id (integer) to the actual sign name."
   ]
  },
  {
   "cell_type": "markdown",
   "metadata": {},
   "source": [
    "### Load and Output the Images"
   ]
  },
  {
   "cell_type": "code",
   "execution_count": 48,
   "metadata": {},
   "outputs": [
    {
     "data": {
      "text/plain": [
       "<matplotlib.image.AxesImage at 0x7f8155bd1630>"
      ]
     },
     "execution_count": 48,
     "metadata": {},
     "output_type": "execute_result"
    },
    {
     "data": {
      "image/png": "[encoded data removed]",
      "text/plain": [
       "<matplotlib.figure.Figure at 0x7f8156e4aac8>"
      ]
     },
     "metadata": {},
     "output_type": "display_data"
    }
   ],
   "source": [
    "### Load the images and plot them here.\n",
    "### Feel free to use as many code cells as needed.\n",
    "\n",
    "signs = np.zeros((14,32,32,4))\n",
    "signs[0] = cv2.resize(mpimg.imread('images/sign1.png'), (32,32))*255\n",
    "signs[1] = cv2.resize(mpimg.imread('images/sign2.png'), (32,32))*255\n",
    "signs[2] = cv2.resize(mpimg.imread('images/sign3.png'), (32,32))*255\n",
    "signs[3] = cv2.resize(mpimg.imread('images/sign4.png'), (32,32))*255\n",
    "signs[4] = cv2.resize(mpimg.imread('images/sign5.png'), (32,32))*255\n",
    "signs[5] = cv2.resize(mpimg.imread('images/sign6.png'), (32,32))*255\n",
    "signs[6] = cv2.resize(mpimg.imread('images/sign7.png'), (32,32))*255\n",
    "signs[7] = cv2.resize(mpimg.imread('images/sign9.png'), (32,32))*255\n",
    "signs[8] = cv2.resize(mpimg.imread('images/sign10.png'), (32,32))*255\n",
    "signs[9] = cv2.resize(mpimg.imread('images/sign14.png'), (32,32))*255\n",
    "signs[10] = cv2.resize(mpimg.imread('images/sign13.png'), (32,32))*255\n",
    "signs[11] = cv2.resize(mpimg.imread('images/sign11.png'), (32,32))*255\n",
    "signs[12] = cv2.resize(mpimg.imread('images/sign15.png'), (32,32))*255\n",
    "signs[13] = cv2.resize(mpimg.imread('images/sign16.png'), (32,32))*255\n",
    "signs = signs[:,:,:,:3].astype(np.uint8)\n",
    "\n",
    "labels = np.zeros((14,43))\n",
    "labels[0,11] = 1\n",
    "labels[1,13] = 1\n",
    "labels[2,13] = 1\n",
    "labels[3,38] = 1\n",
    "labels[4,14] = 1\n",
    "labels[5,21] = 1\n",
    "labels[6,21] = 1\n",
    "labels[7,41] = 1\n",
    "labels[8,23] = 1\n",
    "labels[9,23] = 1\n",
    "labels[10,23] = 1\n",
    "labels[11,22] = 1\n",
    "labels[12,22] = 1\n",
    "labels[13,20] = 1\n",
    "\n",
    "plt.subplot(451)\n",
    "plt.imshow(signs[0])\n",
    "plt.subplot(452)\n",
    "plt.imshow(signs[1])\n",
    "plt.subplot(453)\n",
    "plt.imshow(signs[2])\n",
    "plt.subplot(454)\n",
    "plt.imshow(signs[3])\n",
    "plt.subplot(455)\n",
    "plt.imshow(signs[4])\n",
    "plt.subplot(456)\n",
    "plt.imshow(signs[5])\n",
    "plt.subplot(457)\n",
    "plt.imshow(signs[6])\n",
    "plt.subplot(458)\n",
    "plt.imshow(signs[7])\n",
    "plt.subplot(4,5,9)\n",
    "plt.imshow(signs[8])\n",
    "plt.subplot(4,5,10)\n",
    "plt.imshow(signs[9])\n",
    "plt.subplot(4,5,11)\n",
    "plt.imshow(signs[10])\n",
    "plt.subplot(4,5,12)\n",
    "plt.imshow(signs[11])\n",
    "plt.subplot(4,5,13)\n",
    "plt.imshow(signs[12])\n",
    "plt.subplot(4,5,14)\n",
    "plt.imshow(signs[13])"
   ]
  },
  {
   "cell_type": "markdown",
   "metadata": {},
   "source": [
    "### Predict the Sign Type for Each Image"
   ]
  },
  {
   "cell_type": "code",
   "execution_count": 49,
   "metadata": {
    "scrolled": false
   },
   "outputs": [
    {
     "name": "stdout",
     "output_type": "stream",
     "text": [
      "Sign 1: Right-of-way at the next intersection\n",
      "Sign 2: Yield\n",
      "Sign 3: Yield\n",
      "Sign 4: Keep right\n",
      "Sign 5: Stop\n",
      "Sign 6: Children crossing\n",
      "Sign 7: Right-of-way at the next intersection\n",
      "Sign 8: End of no passing\n",
      "Sign 9: Slippery road\n",
      "Sign 10: Slippery road\n",
      "Sign 11: Slippery road\n",
      "Sign 12: Bumpy road\n",
      "Sign 13: Bumpy road\n",
      "Sign 14: Dangerous curve to the right\n"
     ]
    }
   ],
   "source": [
    "### Run the predictions here and use the model to output the prediction for each image.\n",
    "### Make sure to pre-process the images with the same pre-processing pipeline used earlier.\n",
    "### Feel free to use as many code cells as needed.\n",
    "\n",
    "image_mean_file = \"data/image_mean.p\"\n",
    "image_std_file = \"data/image_std.p\"    \n",
    "\n",
    "with open(image_mean_file, mode='rb') as f:\n",
    "    image_mean = pickle.load(f)\n",
    "with open(image_std_file, mode='rb') as f:\n",
    "    image_std = pickle.load(f)\n",
    "    \n",
    "signs_prep = standardization(yuv2grayscale(bgr2yuv(signs)), image_mean, image_std)\n",
    "\n",
    "\n",
    "\n",
    "with tf.Session() as sess:\n",
    "    sess.run(tf.global_variables_initializer())\n",
    "    sess = tf.get_default_session()\n",
    "    saver.restore(sess, './trafficSignNet')\n",
    "    classifys = sess.run(tf.nn.softmax(logits=logits), feed_dict={x: signs_prep, keep_prob: 1})\n",
    "    for idx, val in enumerate(np.argmax(classifys, axis=1)):\n",
    "        print(\"Sign \"+str(idx+1)+\": \"+signnames[str(val)])"
   ]
  },
  {
   "cell_type": "markdown",
   "metadata": {},
   "source": [
    "### Analyze Performance"
   ]
  },
  {
   "cell_type": "code",
   "execution_count": 50,
   "metadata": {
    "scrolled": false
   },
   "outputs": [
    {
     "name": "stdout",
     "output_type": "stream",
     "text": [
      "Accuracy = 0.857\n"
     ]
    }
   ],
   "source": [
    "### Calculate the accuracy for these 5 new images. \n",
    "### For example, if the model predicted 1 out of 5 signs correctly, it's 20% accurate on these new images.\n",
    "correct_prediction = tf.equal(tf.argmax(classifys, 1), tf.argmax(labels, 1))\n",
    "accuracy_operation = tf.reduce_mean(tf.cast(correct_prediction, tf.float32))\n",
    "with tf.Session() as sess:\n",
    "    accuracy = sess.run(accuracy_operation)\n",
    "    print(\"Accuracy = {:.3f}\".format(accuracy))"
   ]
  },
  {
   "cell_type": "markdown",
   "metadata": {},
   "source": [
    "### Output Top 5 Softmax Probabilities For Each Image Found on the Web"
   ]
  },
  {
   "cell_type": "markdown",
   "metadata": {},
   "source": [
    "For each of the new images, print out the model's softmax probabilities to show the **certainty** of the model's predictions (limit the output to the top 5 probabilities for each image). [`tf.nn.top_k`](https://www.tensorflow.org/versions/r0.12/api_docs/python/nn.html#top_k) could prove helpful here. \n",
    "\n",
    "The example below demonstrates how tf.nn.top_k can be used to find the top k predictions for each image.\n",
    "\n",
    "`tf.nn.top_k` will return the values and indices (class ids) of the top k predictions. So if k=3, for each sign, it'll return the 3 largest probabilities (out of a possible 43) and the correspoding class ids.\n",
    "\n",
    "Take this numpy array as an example. The values in the array represent predictions. The array contains softmax probabilities for five candidate images with six possible classes. `tf.nn.top_k` is used to choose the three classes with the highest probability:\n",
    "\n",
    "```\n",
    "# (5, 6) array\n",
    "a = np.array([[ 0.24879643,  0.07032244,  0.12641572,  0.34763842,  0.07893497,\n",
    "         0.12789202],\n",
    "       [ 0.28086119,  0.27569815,  0.08594638,  0.0178669 ,  0.18063401,\n",
    "         0.15899337],\n",
    "       [ 0.26076848,  0.23664738,  0.08020603,  0.07001922,  0.1134371 ,\n",
    "         0.23892179],\n",
    "       [ 0.11943333,  0.29198961,  0.02605103,  0.26234032,  0.1351348 ,\n",
    "         0.16505091],\n",
    "       [ 0.09561176,  0.34396535,  0.0643941 ,  0.16240774,  0.24206137,\n",
    "         0.09155967]])\n",
    "```\n",
    "\n",
    "Running it through `sess.run(tf.nn.top_k(tf.constant(a), k=3))` produces:\n",
    "\n",
    "```\n",
    "TopKV2(values=array([[ 0.34763842,  0.24879643,  0.12789202],\n",
    "       [ 0.28086119,  0.27569815,  0.18063401],\n",
    "       [ 0.26076848,  0.23892179,  0.23664738],\n",
    "       [ 0.29198961,  0.26234032,  0.16505091],\n",
    "       [ 0.34396535,  0.24206137,  0.16240774]]), indices=array([[3, 0, 5],\n",
    "       [0, 1, 4],\n",
    "       [0, 5, 1],\n",
    "       [1, 3, 5],\n",
    "       [1, 4, 3]], dtype=int32))\n",
    "```\n",
    "\n",
    "Looking just at the first row we get `[ 0.34763842,  0.24879643,  0.12789202]`, you can confirm these are the 3 largest probabilities in `a`. You'll also notice `[3, 0, 5]` are the corresponding indices."
   ]
  },
  {
   "cell_type": "code",
   "execution_count": 51,
   "metadata": {},
   "outputs": [
    {
     "name": "stdout",
     "output_type": "stream",
     "text": [
      "TopKV2(values=array([[  9.99990582e-01,   9.36512606e-06,   4.11729428e-10,\n",
      "          3.87811533e-10,   6.12408527e-11],\n",
      "       [  1.00000000e+00,   1.64418273e-12,   1.89456971e-16,\n",
      "          8.43974894e-17,   3.27551975e-17],\n",
      "       [  1.00000000e+00,   3.32110581e-16,   5.31628814e-17,\n",
      "          5.85806725e-20,   5.73353068e-20],\n",
      "       [  1.00000000e+00,   4.01605558e-16,   8.76627195e-19,\n",
      "          2.54813129e-22,   2.49901744e-22],\n",
      "       [  1.00000000e+00,   5.31414024e-09,   8.84420107e-11,\n",
      "          5.21518835e-11,   3.82995025e-11],\n",
      "       [  9.99996424e-01,   2.08482516e-06,   1.10000008e-06,\n",
      "          3.55434821e-07,   1.35386529e-07],\n",
      "       [  7.21396387e-01,   2.45228663e-01,   1.17131937e-02,\n",
      "          1.07234642e-02,   1.04605146e-02],\n",
      "       [  9.92655754e-01,   5.02378820e-03,   1.65621308e-03,\n",
      "          3.68235371e-04,   2.77274492e-04],\n",
      "       [  9.99777496e-01,   1.14288625e-04,   1.06192259e-04,\n",
      "          1.41691316e-06,   2.47408678e-07],\n",
      "       [  9.99376237e-01,   4.59748931e-04,   1.15865878e-04,\n",
      "          2.69157517e-05,   1.56975457e-05],\n",
      "       [  9.99656081e-01,   2.98581610e-04,   4.00315039e-05,\n",
      "          5.18000479e-06,   7.34306553e-08],\n",
      "       [  9.99640226e-01,   3.38057143e-04,   1.32684954e-05,\n",
      "          6.93495394e-06,   9.18225396e-07],\n",
      "       [  1.00000000e+00,   6.60416600e-12,   3.54149457e-12,\n",
      "          4.85984300e-13,   2.37889786e-13],\n",
      "       [  7.72340238e-01,   2.27659121e-01,   5.22901018e-07,\n",
      "          1.21660307e-07,   5.35856137e-10]], dtype=float32), indices=array([[11, 30, 27, 28, 21],\n",
      "       [13, 12, 30,  9, 11],\n",
      "       [13, 12,  9, 15, 41],\n",
      "       [38, 12, 34,  1, 21],\n",
      "       [14, 40,  2, 34,  3],\n",
      "       [28, 11, 30, 23, 24],\n",
      "       [11, 21, 27, 18, 24],\n",
      "       [41,  6, 42, 33, 39],\n",
      "       [23, 29, 19, 12, 11],\n",
      "       [23, 30, 11, 21, 28],\n",
      "       [23, 30, 29, 28, 21],\n",
      "       [22, 29, 26, 25, 23],\n",
      "       [22, 25, 29, 31, 26],\n",
      "       [20, 23, 31, 19, 22]], dtype=int32))\n"
     ]
    }
   ],
   "source": [
    "### Print out the top five softmax probabilities for the predictions on the German traffic sign images found on the web. \n",
    "### Feel free to use as many code cells as needed.\n",
    "with tf.Session() as sess:\n",
    "    top_k = sess.run(tf.nn.top_k(classifys, k=5))\n",
    "    print(top_k)"
   ]
  },
  {
   "cell_type": "markdown",
   "metadata": {},
   "source": [
    "### Project Writeup\n",
    "\n",
    "Once you have completed the code implementation, document your results in a project writeup using this [template](https://github.com/udacity/CarND-Traffic-Sign-Classifier-Project/blob/master/writeup_template.md) as a guide. The writeup can be in a markdown or pdf file. "
   ]
  },
  {
   "cell_type": "markdown",
   "metadata": {},
   "source": [
    "> **Note**: Once you have completed all of the code implementations and successfully answered each question above, you may finalize your work by exporting the iPython Notebook as an HTML document. You can do this by using the menu above and navigating to  \\n\",\n",
    "    \"**File -> Download as -> HTML (.html)**. Include the finished document along with this notebook as your submission."
   ]
  },
  {
   "cell_type": "markdown",
   "metadata": {},
   "source": [
    "---\n",
    "\n",
    "## Step 4 (Optional): Visualize the Neural Network's State with Test Images\n",
    "\n",
    " This Section is not required to complete but acts as an additional excersise for understaning the output of a neural network's weights. While neural networks can be a great learning device they are often referred to as a black box. We can understand what the weights of a neural network look like better by plotting their feature maps. After successfully training your neural network you can see what it's feature maps look like by plotting the output of the network's weight layers in response to a test stimuli image. From these plotted feature maps, it's possible to see what characteristics of an image the network finds interesting. For a sign, maybe the inner network feature maps react with high activation to the sign's boundary outline or to the contrast in the sign's painted symbol.\n",
    "\n",
    " Provided for you below is the function code that allows you to get the visualization output of any tensorflow weight layer you want. The inputs to the function should be a stimuli image, one used during training or a new one you provided, and then the tensorflow variable name that represents the layer's state during the training process, for instance if you wanted to see what the [LeNet lab's](https://classroom.udacity.com/nanodegrees/nd013/parts/fbf77062-5703-404e-b60c-95b78b2f3f9e/modules/6df7ae49-c61c-4bb2-a23e-6527e69209ec/lessons/601ae704-1035-4287-8b11-e2c2716217ad/concepts/d4aca031-508f-4e0b-b493-e7b706120f81) feature maps looked like for it's second convolutional layer you could enter conv2 as the tf_activation variable.\n",
    "\n",
    "For an example of what feature map outputs look like, check out NVIDIA's results in their paper [End-to-End Deep Learning for Self-Driving Cars](https://devblogs.nvidia.com/parallelforall/deep-learning-self-driving-cars/) in the section Visualization of internal CNN State. NVIDIA was able to show that their network's inner weights had high activations to road boundary lines by comparing feature maps from an image with a clear path to one without. Try experimenting with a similar test to show that your trained network's weights are looking for interesting features, whether it's looking at differences in feature maps from images with or without a sign, or even what feature maps look like in a trained network vs a completely untrained one on the same sign image.\n",
    "\n",
    "<figure>\n",
    " <img src=\"visualize_cnn.png\" width=\"380\" alt=\"Combined Image\" />\n",
    " <figcaption>\n",
    " <p></p> \n",
    " <p style=\"text-align: center;\"> Your output should look something like this (above)</p> \n",
    " </figcaption>\n",
    "</figure>\n",
    " <p></p> \n"
   ]
  },
  {
   "cell_type": "code",
   "execution_count": 53,
   "metadata": {},
   "outputs": [],
   "source": [
    "### Visualize your network's feature maps here.\n",
    "### Feel free to use as many code cells as needed.\n",
    "\n",
    "# image_input: the test image being fed into the network to produce the feature maps\n",
    "# tf_activation: should be a tf variable name used during your training procedure that represents the calculated state of a specific weight layer\n",
    "# activation_min/max: can be used to view the activation contrast in more detail, by default matplot sets min and max to the actual min and max values of the output\n",
    "# plt_num: used to plot out multiple different weight feature map sets on the same block, just extend the plt number for each new feature map entry\n",
    "\n",
    "def outputFeatureMap(image_input, tf_activation, activation_min=-1, activation_max=-1 ,plt_num=1):\n",
    "    # Here make sure to preprocess your image_input in a way your network expects\n",
    "    # with size, normalization, ect if needed\n",
    "    # image_input =\n",
    "    # Note: x should be the same name as your network's tensorflow data placeholder variable\n",
    "    # If you get an error tf_activation is not defined it may be having trouble accessing the variable from inside a function\n",
    "    activation = tf_activation.eval(session=sess,feed_dict={x : image_input, keep_prob: 1})\n",
    "    featuremaps = activation.shape[3]\n",
    "    plt.figure(plt_num, figsize=(15,15))\n",
    "    for featuremap in range(featuremaps):\n",
    "        plt.subplot(6,8, featuremap+1) # sets the number of feature maps to show on each row and column\n",
    "        plt.title('FeatureMap ' + str(featuremap)) # displays the feature map number\n",
    "        if activation_min != -1 & activation_max != -1:\n",
    "            plt.imshow(activation[0,:,:, featuremap], interpolation=\"nearest\", vmin =activation_min, vmax=activation_max, cmap=\"gray\")\n",
    "        elif activation_max != -1:\n",
    "            plt.imshow(activation[0,:,:, featuremap], interpolation=\"nearest\", vmax=activation_max, cmap=\"gray\")\n",
    "        elif activation_min !=-1:\n",
    "            plt.imshow(activation[0,:,:, featuremap], interpolation=\"nearest\", vmin=activation_min, cmap=\"gray\")\n",
    "        else:\n",
    "            plt.imshow(activation[0,:,:, featuremap], interpolation=\"nearest\", cmap=\"gray\")"
   ]
  },
  {
   "cell_type": "code",
   "execution_count": 54,
   "metadata": {
    "scrolled": false
   },
   "outputs": [
    {
     "name": "stdout",
     "output_type": "stream",
     "text": [
      "Tensor(\"Relu:0\", shape=(?, 32, 32, 8), dtype=float32)\n"
     ]
    },
    {
     "data": {
      "image/png": "[encoded data removed]",
      "text/plain": [
       "<matplotlib.figure.Figure at 0x7f8155b69240>"
      ]
     },
     "metadata": {},
     "output_type": "display_data"
    }
   ],
   "source": [
    "with tf.Session() as sess:\n",
    "    sess.run(tf.global_variables_initializer())\n",
    "    sess = tf.get_default_session()\n",
    "    saver.restore(sess, './trafficSignNet')\n",
    "        \n",
    "    tensor = tf.get_default_graph().get_tensor_by_name(\"Relu:0\")\n",
    "    print(tensor)\n",
    "    image = signs_prep[1]\n",
    "    image = image[np.newaxis,:,:,:]\n",
    "    outputFeatureMap(image, tensor)    "
   ]
  }
 ],
 "metadata": {
  "anaconda-cloud": {},
  "kernelspec": {
   "display_name": "Python 3",
   "language": "python",
   "name": "python3"
  },
  "language_info": {
   "codemirror_mode": {
    "name": "ipython",
    "version": 3
   },
   "file_extension": ".py",
   "mimetype": "text/x-python",
   "name": "python",
   "nbconvert_exporter": "python",
   "pygments_lexer": "ipython3",
   "version": "3.5.2"
  }
 },
 "nbformat": 4,
 "nbformat_minor": 1
}
